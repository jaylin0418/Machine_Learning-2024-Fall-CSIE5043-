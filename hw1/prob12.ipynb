{
 "cells": [
  {
   "cell_type": "code",
   "execution_count": 24,
   "metadata": {},
   "outputs": [
    {
     "name": "stdout",
     "output_type": "stream",
     "text": [
      "[0.         0.         0.         0.         0.         0.\n",
      " 0.         0.         0.28964965 0.         0.         0.\n",
      " 0.         0.         0.         0.         0.         0.\n",
      " 0.         0.         0.         0.         0.         0.\n",
      " 0.         0.         0.         0.         0.15587948 0.\n",
      " 0.         0.12655513 0.08643672 0.         0.         0.\n",
      " 0.         0.         0.         0.         0.         0.\n",
      " 0.         0.         0.         0.29306542 0.         0.\n",
      " 0.         0.        ]\n"
     ]
    }
   ],
   "source": [
    "import numpy as np\n",
    "filePath = \"rcv1_train.binary\"\n",
    "\n",
    "def readData(filePath):\n",
    "    with open(filePath) as f:\n",
    "        data = f.readlines()\n",
    "    data = [x.strip() for x in data]\n",
    "    data = data[:200]\n",
    "    \n",
    "    data = [x.split() for x in data]\n",
    "    #this is a sparse representation of the data\n",
    "    y = [int(x[0]) for x in data]\n",
    "    x = []\n",
    "    for i in data:\n",
    "        new_row = np.zeros(47205)\n",
    "        for j in i[1:]:\n",
    "            index = int(j.split(\":\")[0])\n",
    "            value = float(j.split(\":\")[1])\n",
    "            new_row[index-1] = value\n",
    "        x.append(new_row)\n",
    "\n",
    "    x_0 = np.ones((len(x),1))\n",
    "    x = np.array(x)\n",
    "    x = np.concatenate((x_0,x),axis=1)\n",
    "    y = np.array(y)\n",
    "    return x,y\n",
    "\n",
    "x, y = readData(filePath)\n",
    "\n",
    "experimentTimes = 1\n",
    "updateNumList = []\n",
    "w_length = []\n",
    "for i in range (experimentTimes):\n",
    "    now_w_length = []\n",
    "    np.random.seed(i)\n",
    "    weight = np.zeros(x.shape[1])\n",
    "    now_w_length.append(np.linalg.norm(weight))\n",
    "    correct = 0\n",
    "    updateNum = 0\n",
    "    tryNew = True\n",
    "    while True:\n",
    "        if tryNew == True:\n",
    "            index = np.random.randint(0, x.shape[0])\n",
    "        \n",
    "        if np.sign(np.dot(weight, x[index])) == 0:\n",
    "            prediction = -1\n",
    "        else:\n",
    "            prediction = np.sign(np.dot(weight, x[index]))\n",
    "            \n",
    "        if prediction != y[index]:\n",
    "            weight = weight + y[index] * x[index]\n",
    "            tryNew = False\n",
    "            updateNum += 1\n",
    "            now_w_length.append(np.linalg.norm(weight))\n",
    "            #reset correct\n",
    "            correct = 0\n",
    "        else:\n",
    "            correct += 1\n",
    "            tryNew = True\n",
    "             \n",
    "        if correct == 5 * x.shape[0]:\n",
    "            break\n",
    "    w_length.append(now_w_length)\n",
    "    updateNumList.append(updateNum)\n",
    "    print(weight[0:50])"
   ]
  },
  {
   "cell_type": "code",
   "execution_count": 29,
   "metadata": {},
   "outputs": [
    {
     "name": "stdout",
     "output_type": "stream",
     "text": [
      "[0.         0.         0.         0.         0.         0.\n",
      " 0.         0.         0.09654988 0.         0.         0.\n",
      " 0.         0.         0.         0.         0.         0.\n",
      " 0.         0.         0.         0.         0.         0.\n",
      " 0.         0.         0.         0.         0.05195983 0.\n",
      " 0.         0.04218504 0.02881224 0.         0.         0.\n",
      " 0.         0.         0.         0.         0.         0.\n",
      " 0.         0.         0.         0.         0.         0.\n",
      " 0.         0.        ]\n"
     ]
    }
   ],
   "source": [
    "import numpy as np\n",
    "filePath = \"rcv1_train.binary\"\n",
    "\n",
    "def readData(filePath):\n",
    "    with open(filePath) as f:\n",
    "        data = f.readlines()\n",
    "    data = [x.strip() for x in data]\n",
    "    data = data[:200]\n",
    "    \n",
    "    data = [x.split() for x in data]\n",
    "    #this is a sparse representation of the data\n",
    "    y = [int(x[0]) for x in data]\n",
    "    x = []\n",
    "    for i in data:\n",
    "        new_row = np.zeros(47205)\n",
    "        for j in i[1:]:\n",
    "            index = int(j.split(\":\")[0])\n",
    "            value = float(j.split(\":\")[1])\n",
    "            new_row[index-1] = value\n",
    "        x.append(new_row)\n",
    "\n",
    "    x_0 = np.ones((len(x),1))\n",
    "    x_0 = np.full((len(x), 1), 2)\n",
    "    x = np.array(x)\n",
    "    x = np.concatenate((x_0,x),axis=1)\n",
    "    #x = 3 * x\n",
    "    y = np.array(y)\n",
    "    return x,y\n",
    "\n",
    "x, y = readData(filePath)\n",
    "\n",
    "experimentTimes = 1\n",
    "updateNumList = []\n",
    "w_length = []\n",
    "for i in range (experimentTimes):\n",
    "    now_w_length = []\n",
    "    np.random.seed(i)\n",
    "    weight = np.zeros(x.shape[1])\n",
    "    now_w_length.append(np.linalg.norm(weight))\n",
    "    correct = 0\n",
    "    updateNum = 0\n",
    "    tryNew = True\n",
    "    while True:\n",
    "        if tryNew == True:\n",
    "            index = np.random.randint(0, x.shape[0])\n",
    "        \n",
    "        if np.sign(np.dot(weight, x[index])) == 0:\n",
    "            prediction = -1\n",
    "        else:\n",
    "            prediction = np.sign(np.dot(weight, x[index]))\n",
    "            \n",
    "        if prediction != y[index]:\n",
    "            weight = weight + y[index] * x[index]\n",
    "            tryNew = False\n",
    "            updateNum += 1\n",
    "            now_w_length.append(np.linalg.norm(weight))\n",
    "            #reset correct\n",
    "            correct = 0\n",
    "        else:\n",
    "            correct += 1\n",
    "            tryNew = True\n",
    "             \n",
    "        if correct == 5 * x.shape[0]:\n",
    "            break\n",
    "    w_length.append(now_w_length)\n",
    "    updateNumList.append(updateNum)\n",
    "    print(weight[0:50]/3)"
   ]
  },
  {
   "cell_type": "code",
   "execution_count": 26,
   "metadata": {},
   "outputs": [
    {
     "name": "stdout",
     "output_type": "stream",
     "text": [
      "median of updateNumList:  114.0\n"
     ]
    },
    {
     "data": {
      "image/png": "[encoded data removed]",
      "text/plain": [
       "<Figure size 640x480 with 1 Axes>"
      ]
     },
     "metadata": {},
     "output_type": "display_data"
    }
   ],
   "source": [
    "#plot the histogram of updateNumList\n",
    "import matplotlib.pyplot as plt\n",
    "plt.hist(updateNumList, bins=50)\n",
    "plt.xlabel('Number of updates')\n",
    "plt.ylabel('Frequency')\n",
    "plt.title('Histogram of number of updates')\n",
    "print(\"median of updateNumList: \", np.median(updateNumList))"
   ]
  }
 ],
 "metadata": {
  "kernelspec": {
   "display_name": "base",
   "language": "python",
   "name": "python3"
  },
  "language_info": {
   "codemirror_mode": {
    "name": "ipython",
    "version": 3
   },
   "file_extension": ".py",
   "mimetype": "text/x-python",
   "name": "python",
   "nbconvert_exporter": "python",
   "pygments_lexer": "ipython3",
   "version": "3.12.2"
  }
 },
 "nbformat": 4,
 "nbformat_minor": 2
}
